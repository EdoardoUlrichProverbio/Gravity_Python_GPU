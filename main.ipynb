{
 "cells": [
  {
   "cell_type": "code",
   "execution_count": null,
   "metadata": {},
   "outputs": [],
   "source": [
    "import torch\n",
    "import numpy as np\n",
    "device = torch.device('cuda' if torch.cuda.is_available() else 'cpu')\n",
    "import plotly.graph_objects as go"
   ]
  },
  {
   "cell_type": "code",
   "execution_count": null,
   "metadata": {},
   "outputs": [],
   "source": [
    "from plotting_set import set_figure\n",
    "from plotting_set import animate_setting\n",
    "from physics import update_sim"
   ]
  },
  {
   "cell_type": "code",
   "execution_count": null,
   "metadata": {},
   "outputs": [],
   "source": [
    "space_size = 5   #plotsize\n",
    "n_particles = 500  #n bodies in simulation\n",
    "tot_frame = 500  # length of simulation\n",
    "\n",
    "# r:positions, v:velocities\n",
    "r = torch.rand((3,n_particles)).to(device)\n",
    "v = torch.rand((3,n_particles)).to(device)/1e03\n",
    "\n",
    "#separate coordinates\n",
    "x = r[0]\n",
    "y = r[1]\n",
    "z = r[2]\n",
    "\n",
    "mask =  (torch.ones(n_particles, n_particles) - torch.diag(torch.ones(n_particles))) != 0   #mask to not take same particle distance itself\n",
    "\n",
    "#tensor of all masses, you can chose to increase mass to some particles\n",
    "mass = torch.rand(n_particles).to(device)\n",
    "mass[0], mass[1], mass[2] = mass[0] + 1000, mass[1] + 2000, mass[2] + 4000\n",
    "\n",
    "#tensor of all sizes/ you can chose to highlight 3 particles\n",
    "size = torch.rand(n_particles).to(device) + 0.5\n",
    "size[0], size[1], size[2] = 5,10,15\n",
    "\n",
    "#wrap all params in a dictionary\n",
    "params = { \n",
    "     \"x\" : x,\n",
    "     \"y\" : y,\n",
    "     \"z\" : z,\n",
    "     \"v\" : v,\n",
    "     \"mass\" : mass,\n",
    "     \"size\" : size,\n",
    "     \"mask\" : mask,\n",
    "     \"dt\" : 10,\n",
    "     \"colors\" : np.random.randn(n_particles),\n",
    "     \"n_particles\" : n_particles\n",
    "}\n"
   ]
  },
  {
   "cell_type": "code",
   "execution_count": null,
   "metadata": {},
   "outputs": [],
   "source": [
    "\n",
    "fig = set_figure(x,y,z, size, params[\"colors\"])\n",
    "\n",
    "# Add the animation to the Plotly figure\n",
    "frames= []\n",
    "for frame in range(tot_frame):\n",
    "    data, fig, params = update_sim(frame, fig, params)\n",
    "    frames.append(go.Frame(data=data))\n",
    "fig.frames = frames\n",
    "\n",
    "# Set the layout of the Plotly figure\n",
    "fig = animate_setting(fig, space_size)\n",
    "\n",
    "# Show the Plotly figure\n",
    "fig.show()\n"
   ]
  }
 ],
 "metadata": {
  "kernelspec": {
   "display_name": "Python 3",
   "language": "python",
   "name": "python3"
  },
  "language_info": {
   "codemirror_mode": {
    "name": "ipython",
    "version": 3
   },
   "file_extension": ".py",
   "mimetype": "text/x-python",
   "name": "python",
   "nbconvert_exporter": "python",
   "pygments_lexer": "ipython3",
   "version": "3.11.2"
  },
  "orig_nbformat": 4
 },
 "nbformat": 4,
 "nbformat_minor": 2
}
